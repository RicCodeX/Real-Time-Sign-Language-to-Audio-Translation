{
 "cells": [
  {
   "cell_type": "code",
   "execution_count": 1,
   "id": "c60b926a-398d-47aa-af50-7685c102d196",
   "metadata": {},
   "outputs": [],
   "source": [
    "import os"
   ]
  },
  {
   "cell_type": "code",
   "execution_count": 2,
   "id": "6b863024-4b0b-412d-931d-8765d6e6e5e2",
   "metadata": {},
   "outputs": [],
   "source": [
    "CUSTOM_MODEL_NAME = 'my_ssd_mobnet' \n",
    "PRETRAINED_MODEL_NAME = 'ssd_mobilenet_v2_fpnlite_320x320_coco17_tpu-8'\n",
    "PRETRAINED_MODEL_URL = 'http://download.tensorflow.org/models/object_detection/tf2/20200711/ssd_mobilenet_v2_fpnlite_320x320_coco17_tpu-8.tar.gz'\n",
    "TF_RECORD_SCRIPT_NAME = 'generate_tfrecord.py'\n",
    "LABEL_MAP_NAME = 'label_map.pbtxt'"
   ]
  },
  {
   "cell_type": "code",
   "execution_count": 3,
   "id": "cd0eb1de-f35c-4727-b30a-2199d9369c85",
   "metadata": {},
   "outputs": [],
   "source": [
    "paths = {\n",
    "    'WORKSPACE_PATH': os.path.join('Tensorflow', 'workspace'),\n",
    "    'SCRIPTS_PATH': os.path.join('Tensorflow','scripts'),\n",
    "    'APIMODEL_PATH': os.path.join('Tensorflow','models'),\n",
    "    'ANNOTATION_PATH': os.path.join('Tensorflow', 'workspace','annotations'),\n",
    "    'IMAGE_PATH': os.path.join('Tensorflow', 'workspace','images'),\n",
    "    'MODEL_PATH': os.path.join('Tensorflow', 'workspace','models'),\n",
    "    'PRETRAINED_MODEL_PATH': os.path.join('Tensorflow', 'workspace','pre-trained-models'),\n",
    "    'CHECKPOINT_PATH': os.path.join('Tensorflow', 'workspace','models',CUSTOM_MODEL_NAME), \n",
    "    'OUTPUT_PATH': os.path.join('Tensorflow', 'workspace','models',CUSTOM_MODEL_NAME, 'export'), \n",
    "    'TFJS_PATH':os.path.join('Tensorflow', 'workspace','models',CUSTOM_MODEL_NAME, 'tfjsexport'), \n",
    "    'TFLITE_PATH':os.path.join('Tensorflow', 'workspace','models',CUSTOM_MODEL_NAME, 'tfliteexport'), \n",
    "    'PROTOC_PATH':os.path.join('Tensorflow','protoc')\n",
    " }"
   ]
  },
  {
   "cell_type": "code",
   "execution_count": 14,
   "id": "4ed0a338-4297-4411-84d0-eb9b0d7c6733",
   "metadata": {},
   "outputs": [
    {
     "data": {
      "text/plain": [
       "'Tensorflow\\\\protoc'"
      ]
     },
     "execution_count": 14,
     "metadata": {},
     "output_type": "execute_result"
    }
   ],
   "source": [
    "paths['PROTOC_PATH']"
   ]
  },
  {
   "cell_type": "code",
   "execution_count": 4,
   "id": "9a2c0648-9272-4b30-8cc5-b85f454f5a1b",
   "metadata": {},
   "outputs": [],
   "source": [
    "files = {\n",
    "    'PIPELINE_CONFIG':os.path.join('Tensorflow', 'workspace','models', CUSTOM_MODEL_NAME, 'pipeline.config'),\n",
    "    'TF_RECORD_SCRIPT': os.path.join(paths['SCRIPTS_PATH'], TF_RECORD_SCRIPT_NAME), \n",
    "    'LABELMAP': os.path.join(paths['ANNOTATION_PATH'], LABEL_MAP_NAME)\n",
    "}"
   ]
  },
  {
   "cell_type": "code",
   "execution_count": 5,
   "id": "fa7a140d-928a-4073-9374-e718cc16f6fd",
   "metadata": {},
   "outputs": [],
   "source": [
    "for path in paths.values():\n",
    "    if not os.path.exists(path):\n",
    "        if os.name == 'posix':\n",
    "            !mkdir -p {path}\n",
    "        if os.name == 'nt':\n",
    "            !mkdir {path}"
   ]
  },
  {
   "cell_type": "code",
   "execution_count": 9,
   "id": "8b05f122-0175-402f-a7df-8aebbf1b48ca",
   "metadata": {},
   "outputs": [
    {
     "name": "stdout",
     "output_type": "stream",
     "text": [
      "GNU Wget 1.21.4 built on mingw32.\n",
      "\n",
      "+cares +digest +gpgme +https +ipv6 +iri +large-file +metalink -nls \n",
      "+ntlm +opie +psl +ssl/openssl \n",
      "\n",
      "Wgetrc: \n",
      "    C:/msys64/qemu/opt/misc-x64/etc/wgetrc (system)\n",
      "Compile: \n",
      "    x86_64-w64-mingw32-gcc -DHAVE_CONFIG_H \n",
      "    -DSYSTEM_WGETRC=\"/opt/misc-x64/etc/wgetrc\" \n",
      "    -DLOCALEDIR=\"/opt/misc-x64/share/locale\" -I. -I../../src -I../lib \n",
      "    -I../../lib -I/opt/misc-x64/include \n",
      "    -IC:/msys64/qemu/opt/misc-x64/include \n",
      "    -IC:/msys64/qemu/opt/misc-x64/include \n",
      "    -IC:/msys64/qemu/opt/misc-x64/include -DCARES_STATICLIB \n",
      "    -IC:/msys64/qemu/opt/misc-x64/include -DPCRE2_STATIC \n",
      "    -IC:/msys64/qemu/opt/misc-x64/include \n",
      "    -IC:/msys64/qemu/opt/misc-x64/include -DHAVE_LIBSSL -I \n",
      "    -IC:/msys64/qemu/opt/misc-x64/include -DNDEBUG -ggdb \n",
      "    -mtune=broadwell -mtune=znver2 -O2 -pipe \n",
      "Link: \n",
      "    x86_64-w64-mingw32-gcc -IC:/msys64/qemu/opt/misc-x64/include \n",
      "    -IC:/msys64/qemu/opt/misc-x64/include \n",
      "    -IC:/msys64/qemu/opt/misc-x64/include -DCARES_STATICLIB \n",
      "    -IC:/msys64/qemu/opt/misc-x64/include -DPCRE2_STATIC \n",
      "    -IC:/msys64/qemu/opt/misc-x64/include \n",
      "    -IC:/msys64/qemu/opt/misc-x64/include -DHAVE_LIBSSL -I \n",
      "    -IC:/msys64/qemu/opt/misc-x64/include -DNDEBUG -ggdb \n",
      "    -mtune=broadwell -mtune=znver2 -O2 -pipe -L/opt/misc-x64/lib \n",
      "    -LC:/msys64/qemu/opt/misc-x64/lib -lmetalink \n",
      "    -LC:/msys64/qemu/opt/misc-x64/lib -lcares \n",
      "    -LC:/msys64/qemu/opt/misc-x64/lib -lpcre2-8 \n",
      "    -LC:/msys64/qemu/opt/misc-x64/lib -lidn2 \n",
      "    -LC:/msys64/qemu/opt/misc-x64/lib64 -lssl -lcrypto -L -lz \n",
      "    -LC:/msys64/qemu/opt/misc-x64/lib -lpsl -lws2_32 -lole32 -lcrypt32 \n",
      "    -lexpat -LC:/msys64/qemu/opt/misc-x64/lib -lgpgme ../lib/libgnu.a \n",
      "    -lws2_32 -lws2_32 -lws2_32 -lws2_32 /opt/misc-x64/lib/libiconv.a \n",
      "    /opt/misc-x64/lib/libunistring.a /opt/misc-x64/lib/libiconv.a \n",
      "    -lws2_32 \n",
      "\n",
      "Copyright (C) 2015 Free Software Foundation, Inc.\n",
      "License GPLv3+: GNU GPL version 3 or later\n",
      "<http://www.gnu.org/licenses/gpl.html>.\n",
      "This is free software: you are free to change and redistribute it.\n",
      "There is NO WARRANTY, to the extent permitted by law.\n",
      "\n",
      "Originally written by Hrvoje Niksic <hniksic@xemacs.org>.\n",
      "Please send bug reports and questions to <bug-wget@gnu.org>.\n",
      "Requirement already satisfied: wget in c:\\programdata\\anaconda3\\envs\\tfod-env\\lib\\site-packages (3.2)\n"
     ]
    }
   ],
   "source": [
    "# allows to pull model directly from tensorflow model Zoo\n",
    "!wget --version\n",
    "if os.name=='nt':\n",
    "    !pip install wget\n",
    "    import wget"
   ]
  },
  {
   "cell_type": "code",
   "execution_count": null,
   "id": "bfb7ac77-4ade-4139-87ee-bd08c670bbfc",
   "metadata": {},
   "outputs": [],
   "source": [
    "#cloning tensorflow \n",
    "if not os.path.exists(os.path.join(paths['APIMODEL_PATH'], 'research', 'object_detection')):\n",
    "    !git clone https://github.com/tensorflow/models {paths['APIMODEL_PATH']}"
   ]
  },
  {
   "cell_type": "code",
   "execution_count": null,
   "id": "3e4e6bdd-259a-403e-afdf-36a829135f5c",
   "metadata": {},
   "outputs": [],
   "source": [
    "# Install Tensorflow Object Detection \n",
    "\n",
    "# Check if the operating system is POSIX-compliant (e.g., Linux, macOS)\n",
    "if os.name=='posix':  \n",
    "    # Install the Protocol Buffers compiler on POSIX systems\n",
    "    !apt-get install protobuf-compiler\n",
    "    # Change directory to TensorFlow models/research and compile the proto files, \n",
    "    # then copy the setup.py file for TensorFlow 2 and install the package\n",
    "    !cd Tensorflow/models/research && protoc object_detection/protos/*.proto --python_out=. && \\\n",
    "    cp object_detection/packages/tf2/setup.py . && python -m pip install . \n",
    "    \n",
    "# Check if the operating system is Windows (NT)\n",
    "if os.name=='nt':\n",
    "    # Define the URL to download the Protocol Buffers compiler for Windows\n",
    "    url=\"https://github.com/protocolbuffers/protobuf/releases/download/v3.15.6/protoc-3.15.6-win64.zip\"\n",
    "    # Download the Protocol Buffers compiler using wget\n",
    "    wget.download(url)\n",
    "    # Move the downloaded zip file to the specified path\n",
    "    !move protoc-3.15.6-win64.zip {paths['PROTOC_PATH']}\n",
    "    # Change directory to the specified path and extract the zip file\n",
    "    !cd {paths['PROTOC_PATH']} && tar -xf protoc-3.15.6-win64.zip\n",
    "    # Add the Protocol Buffers compiler's bin directory to the system's PATH environment variable\n",
    "    os.environ['PATH'] += os.pathsep + os.path.abspath(os.path.join(paths['PROTOC_PATH'], 'bin'))   \n",
    "    # Change directory to TensorFlow models/research, compile the proto files, copy the setup.py file,\n",
    "    # and build and install the package\n",
    "    !cd Tensorflow/models/research && protoc object_detection/protos/*.proto --python_out=. && \\\n",
    "    copy object_detection\\\\packages\\\\tf2\\\\setup.py setup.py && python setup.py build && python setup.py install\n",
    "    # Change directory to TensorFlow models/research/slim and install the package in editable mode\n",
    "    !cd Tensorflow/models/research/slim && pip install -e ."
   ]
  },
  {
   "cell_type": "code",
   "execution_count": 10,
   "id": "ceca96d3-030d-491d-b54d-a75d908a7bdb",
   "metadata": {},
   "outputs": [
    {
     "name": "stdout",
     "output_type": "stream",
     "text": [
      "3.20.3\n"
     ]
    }
   ],
   "source": [
    "import google.protobuf\n",
    "\n",
    "print(google.protobuf.__version__)"
   ]
  },
  {
   "cell_type": "code",
   "execution_count": 12,
   "id": "1cff1706-91ed-4f67-9c59-d9bd6669d139",
   "metadata": {},
   "outputs": [
    {
     "name": "stdout",
     "output_type": "stream",
     "text": [
      "C:\\AdditionalPackages\\protoc\\bin\\protoc.exe\n"
     ]
    }
   ],
   "source": [
    "!where protoc"
   ]
  },
  {
   "cell_type": "code",
   "execution_count": 15,
   "id": "399c4716-d1e5-45c1-9346-18d115b6486e",
   "metadata": {},
   "outputs": [
    {
     "name": "stderr",
     "output_type": "stream",
     "text": [
      "2024-08-14 17:31:00.948874: I tensorflow/core/util/port.cc:153] oneDNN custom operations are on. You may see slightly different numerical results due to floating-point round-off errors from different computation orders. To turn them off, set the environment variable `TF_ENABLE_ONEDNN_OPTS=0`.\n",
      "2024-08-14 17:31:14.335870: I tensorflow/core/util/port.cc:153] oneDNN custom operations are on. You may see slightly different numerical results due to floating-point round-off errors from different computation orders. To turn them off, set the environment variable `TF_ENABLE_ONEDNN_OPTS=0`.\n",
      "Traceback (most recent call last):\n",
      "  File \"c:\\TFOD\\Tensorflow\\models\\research\\object_detection\\builders\\model_builder_tf2_test.py\", line 24, in <module>\n",
      "    from object_detection.builders import model_builder\n",
      "ModuleNotFoundError: No module named 'object_detection'\n"
     ]
    }
   ],
   "source": [
    "VERIFICATION_SCRIPT = os.path.join(paths['APIMODEL_PATH'], 'research', 'object_detection', 'builders', 'model_builder_tf2_test.py')\n",
    "# Verify Installation\n",
    "!python {VERIFICATION_SCRIPT}"
   ]
  },
  {
   "cell_type": "code",
   "execution_count": 16,
   "id": "73dadf22-70d9-4824-bcc8-7b67afb0dced",
   "metadata": {},
   "outputs": [
    {
     "name": "stderr",
     "output_type": "stream",
     "text": [
      "python: can't open file 'c:\\content\\models\\research\\object_detection\\builders\\model_builder_tf2_test.py': [Errno 2] No such file or directory\n"
     ]
    }
   ],
   "source": [
    "# Run Model Bulider Test file, just to verify everything's working properly\n",
    "!python /content/models/research/object_detection/builders/model_builder_tf2_test.py"
   ]
  },
  {
   "cell_type": "code",
   "execution_count": null,
   "id": "76992113-49f5-4edd-9307-d3f0d488bee5",
   "metadata": {},
   "outputs": [],
   "source": []
  }
 ],
 "metadata": {
  "kernelspec": {
   "display_name": "TFOD",
   "language": "python",
   "name": "tfod"
  },
  "language_info": {
   "codemirror_mode": {
    "name": "ipython",
    "version": 3
   },
   "file_extension": ".py",
   "mimetype": "text/x-python",
   "name": "python",
   "nbconvert_exporter": "python",
   "pygments_lexer": "ipython3",
   "version": "3.9.19"
  }
 },
 "nbformat": 4,
 "nbformat_minor": 5
}
